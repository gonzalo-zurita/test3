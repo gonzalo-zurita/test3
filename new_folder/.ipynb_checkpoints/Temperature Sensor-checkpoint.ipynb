{
 "cells": [
  {
   "cell_type": "code",
   "execution_count": 1,
   "id": "c16129b8",
   "metadata": {},
   "outputs": [],
   "source": [
    "temperatures_C = [33, 66, 65, 0, 59, 60, 62, 64, 70, 76, 80, 81, 80, 83, 90, 79, 61, 53, 50, 49, 53, 48, 45, 39]"
   ]
  },
  {
   "cell_type": "code",
   "execution_count": 2,
   "id": "7f369c6e",
   "metadata": {},
   "outputs": [],
   "source": [
    "coldest = min(temperatures_C)"
   ]
  },
  {
   "cell_type": "code",
   "execution_count": 3,
   "id": "4bfc3281",
   "metadata": {},
   "outputs": [],
   "source": [
    "hottest = max(temperatures_C)"
   ]
  },
  {
   "cell_type": "code",
   "execution_count": 4,
   "id": "f55d3783",
   "metadata": {},
   "outputs": [],
   "source": [
    "hot_ones = [t for t in temperatures_C if t >= 70]"
   ]
  },
  {
   "cell_type": "code",
   "execution_count": 5,
   "id": "2a99d518",
   "metadata": {},
   "outputs": [],
   "source": [
    "from statistics import mean\n",
    "average = round(mean(temperatures_C), 2)"
   ]
  },
  {
   "cell_type": "code",
   "execution_count": 6,
   "id": "9a522df6",
   "metadata": {},
   "outputs": [
    {
     "name": "stdout",
     "output_type": "stream",
     "text": [
      "[33, 66, 65, 62.0, 59, 60, 62, 64, 70, 76, 80, 81, 80, 83, 90, 79, 61, 53, 50, 49, 53, 48, 45, 39]\n"
     ]
    }
   ],
   "source": [
    "temperatures_C[3] = (temperatures_C[2] + temperatures_C[4])/2\n",
    "print(temperatures_C)"
   ]
  },
  {
   "cell_type": "code",
   "execution_count": 7,
   "id": "21ec370a",
   "metadata": {},
   "outputs": [
    {
     "name": "stdout",
     "output_type": "stream",
     "text": [
      "[91, 151, 149, 144, 138, 140, 144, 147, 158, 169, 176, 178, 176, 181, 194, 174, 142, 127, 122, 120, 127, 118, 113, 102]\n"
     ]
    }
   ],
   "source": [
    "# Bonus\n",
    "temperatures_F = [round(x*1.8 + 32) for x in temperatures_C]\n",
    "print(temperatures_F)"
   ]
  },
  {
   "cell_type": "code",
   "execution_count": 8,
   "id": "0a3add5e",
   "metadata": {},
   "outputs": [
    {
     "name": "stdout",
     "output_type": "stream",
     "text": [
      "Server under overheating hazard. Please change the cooling system.\n"
     ]
    }
   ],
   "source": [
    "# Make a decision!\n",
    "\n",
    "if len(hot_ones) >= 4 or m >= 80 in temperatures_C or average >= 65:\n",
    "    print(\"Server under overheating hazard. Please change the cooling system.\")\n",
    "else:\n",
    "    print(\"Cooling system effective. Your server is cool.\")"
   ]
  },
  {
   "cell_type": "code",
   "execution_count": null,
   "id": "3eceb547",
   "metadata": {},
   "outputs": [],
   "source": []
  }
 ],
 "metadata": {
  "kernelspec": {
   "display_name": "Python 3",
   "language": "python",
   "name": "python3"
  },
  "language_info": {
   "codemirror_mode": {
    "name": "ipython",
    "version": 3
   },
   "file_extension": ".py",
   "mimetype": "text/x-python",
   "name": "python",
   "nbconvert_exporter": "python",
   "pygments_lexer": "ipython3",
   "version": "3.9.6"
  }
 },
 "nbformat": 4,
 "nbformat_minor": 5
}
