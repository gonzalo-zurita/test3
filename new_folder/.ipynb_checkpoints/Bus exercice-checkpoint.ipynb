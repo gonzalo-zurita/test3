{
 "cells": [
  {
   "cell_type": "code",
   "execution_count": 12,
   "id": "667e3b1e",
   "metadata": {},
   "outputs": [],
   "source": [
    "stops = [(10, 0), (4, 1), (3, 5), (3, 4), (5, 1), (1, 5), (5, 8), (4, 6), (2, 3)]\n",
    "bus_is_full = False\n",
    "bus_capacity = 0\n",
    "stops_count = 0"
   ]
  },
  {
   "cell_type": "code",
   "execution_count": 14,
   "id": "ede56a49",
   "metadata": {},
   "outputs": [],
   "source": [
    "for stop in stops:\n",
    "    bus_capacity += stop[0] - stop[1]\n",
    "    if bus_capacity >= 50:\n",
    "        bus_is_full = True\n",
    "        stops_count += 1 \n",
    "        break\n",
    "    elif bus_capacity < 50:\n",
    "        stops_count += 1"
   ]
  },
  {
   "cell_type": "code",
   "execution_count": 15,
   "id": "4702f54c",
   "metadata": {},
   "outputs": [
    {
     "name": "stdout",
     "output_type": "stream",
     "text": [
      "8\n",
      "18\n"
     ]
    }
   ],
   "source": [
    "print(bus_capacity)\n",
    "print(stops_count)"
   ]
  },
  {
   "cell_type": "code",
   "execution_count": 16,
   "id": "585ac3e1",
   "metadata": {},
   "outputs": [
    {
     "data": {
      "text/plain": [
       "9"
      ]
     },
     "execution_count": 16,
     "metadata": {},
     "output_type": "execute_result"
    }
   ],
   "source": [
    "len(stops)"
   ]
  },
  {
   "cell_type": "code",
   "execution_count": 23,
   "id": "45718f46",
   "metadata": {},
   "outputs": [],
   "source": [
    "def average_tuple(stops):\n",
    "     result = [sum(x) / len(x) for x in zip(*stops)]"
   ]
  },
  {
   "cell_type": "code",
   "execution_count": 26,
   "id": "9dfcf572",
   "metadata": {},
   "outputs": [
    {
     "data": {
      "text/plain": [
       "[(10, 0), (4, 1), (3, 5), (3, 4), (5, 1), (1, 5), (5, 8), (4, 6), (2, 3)]"
      ]
     },
     "execution_count": 26,
     "metadata": {},
     "output_type": "execute_result"
    }
   ],
   "source": [
    "list(stops)\n"
   ]
  },
  {
   "cell_type": "code",
   "execution_count": 6,
   "id": "1ffe6e3e",
   "metadata": {},
   "outputs": [
    {
     "ename": "TypeError",
     "evalue": "unsupported operand type(s) for +: 'int' and 'tuple'",
     "output_type": "error",
     "traceback": [
      "\u001b[0;31m---------------------------------------------------------------------------\u001b[0m",
      "\u001b[0;31mTypeError\u001b[0m                                 Traceback (most recent call last)",
      "\u001b[0;32m<ipython-input-6-bfcf1c4aec2b>\u001b[0m in \u001b[0;36m<module>\u001b[0;34m\u001b[0m\n\u001b[0;32m----> 1\u001b[0;31m \u001b[0maverage\u001b[0m \u001b[0;34m=\u001b[0m \u001b[0msum\u001b[0m\u001b[0;34m(\u001b[0m\u001b[0mstops\u001b[0m\u001b[0;34m)\u001b[0m \u001b[0;34m/\u001b[0m \u001b[0mlen\u001b[0m\u001b[0;34m(\u001b[0m\u001b[0mstop\u001b[0m\u001b[0;34m)\u001b[0m\u001b[0;34m\u001b[0m\u001b[0;34m\u001b[0m\u001b[0m\n\u001b[0m\u001b[1;32m      2\u001b[0m \u001b[0;34m\u001b[0m\u001b[0m\n",
      "\u001b[0;31mTypeError\u001b[0m: unsupported operand type(s) for +: 'int' and 'tuple'"
     ]
    }
   ],
   "source": [
    "average = sum(stops) / len(stop)\n",
    "    "
   ]
  }
 ],
 "metadata": {
  "kernelspec": {
   "display_name": "Python 3",
   "language": "python",
   "name": "python3"
  },
  "language_info": {
   "codemirror_mode": {
    "name": "ipython",
    "version": 3
   },
   "file_extension": ".py",
   "mimetype": "text/x-python",
   "name": "python",
   "nbconvert_exporter": "python",
   "pygments_lexer": "ipython3",
   "version": "3.9.6"
  }
 },
 "nbformat": 4,
 "nbformat_minor": 5
}
