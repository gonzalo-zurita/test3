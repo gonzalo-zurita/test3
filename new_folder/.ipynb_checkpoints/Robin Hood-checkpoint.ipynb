{
 "cells": [
  {
   "cell_type": "code",
   "execution_count": 39,
   "id": "12ddaf50",
   "metadata": {},
   "outputs": [],
   "source": [
    "points = [(4, 5), (-0, 2), (4, 7), (1, -3), (3, -2), (4, 5), (3, 2), (5, 7), (-5, 7), (2, 2), (-4, 5), (0, -2),\n",
    "          (-4, 7), (-1, 3), (-3, 2), (-4, -5), (-3, 2), (5, 7), (5, 7), (2, 2), (9, 9), (-8, -9)]"
   ]
  },
  {
   "cell_type": "code",
   "execution_count": 40,
   "id": "0575842b",
   "metadata": {},
   "outputs": [
    {
     "name": "stdout",
     "output_type": "stream",
     "text": [
      "{(-3, 2), (4, 5), (5, 7), (2, 2)}\n"
     ]
    }
   ],
   "source": [
    "bullseye = []\n",
    "for i in range(len(points)):\n",
    "    if points[i] in points[i+1:]:\n",
    "        bullseye.append(points[i])\n",
    "print(set(bullseye))"
   ]
  },
  {
   "cell_type": "code",
   "execution_count": 41,
   "id": "b2f23cda",
   "metadata": {},
   "outputs": [
    {
     "name": "stdout",
     "output_type": "stream",
     "text": [
      "There is a total of 10 arrows in quadrant 1, 6 arrows in quadrant 2, 2 arrows in quadrant 3 and 2 arrows in quadrant 4.\n",
      "0\n"
     ]
    }
   ],
   "source": [
    "q1 = []\n",
    "q2 = []\n",
    "q3 = []\n",
    "q4 = []\n",
    "count = 0\n",
    "while count < len(points):\n",
    "    for hey,you in points[count:count+1]:\n",
    "        if hey > 0 and you > 0:\n",
    "            q1.append(points[count])\n",
    "        elif hey > 0 and you < 0:\n",
    "            q4.append(points[count])\n",
    "        elif hey < 0 and you > 0:\n",
    "            q2.append(points[count])\n",
    "        elif hey < 0 and you < 0:\n",
    "            q3.append(points[count])\n",
    "    count += 1\n",
    "solution = \"There is a total of \" + str(len(q1)) + \" arrows in quadrant 1, \" + str(len(q2)) + \" arrows in quadrant 2, \" + str(len(q3)) + \" arrows in quadrant 3 and \" + str(len(q4)) + \" arrows in quadrant 4.\"\n",
    "print(solution)\n",
    "print(points[7:].index((5,7)))"
   ]
  },
  {
   "cell_type": "code",
   "execution_count": 42,
   "id": "ac7f0096",
   "metadata": {},
   "outputs": [
    {
     "name": "stdout",
     "output_type": "stream",
     "text": [
      "[6.4, 2.0, 8.06, 3.16, 3.61, 6.4, 3.61, 8.6, 8.6, 2.83, 6.4, 2.0, 8.06, 3.16, 3.61, 6.4, 3.61, 8.6, 8.6, 2.83, 12.73, 12.04]\n",
      "The closest point(s) to the center is(are): [(0, 2), (0, -2)]\n",
      "The distance of the closest point to the center is: 2.0\n"
     ]
    }
   ],
   "source": [
    "import math\n",
    "def ramayana(shot):\n",
    "    hey = shot[0]\n",
    "    you = shot[1]\n",
    "    distance = math.sqrt(hey**2 + you**2)\n",
    "    return distance\n",
    "\n",
    "distances = []\n",
    "for i in points:\n",
    "    distances.append(round(ramayana(i), 2))\n",
    "print(distances)\n",
    "\n",
    "counter = 0\n",
    "marksman = []\n",
    "for i in distances:\n",
    "    if i == min(distances):\n",
    "         marksman.append(points[counter])\n",
    "    counter += 1  \n",
    "\n",
    "print(\"The closest point(s) to the center is(are):\", marksman)\n",
    "print(\"The distance of the closest point to the center is:\", min(distances))"
   ]
  },
  {
   "cell_type": "code",
   "execution_count": 43,
   "id": "1038eba8",
   "metadata": {},
   "outputs": [
    {
     "name": "stdout",
     "output_type": "stream",
     "text": [
      "2 arrows didn't meet the target. Robin shoots in misterious ways.\n"
     ]
    }
   ],
   "source": [
    "radius = 9\n",
    "print(sum(1 for i in distances if i > radius), \"arrows didn't meet the target. Robin shoots in misterious ways.\")"
   ]
  },
  {
   "cell_type": "code",
   "execution_count": null,
   "id": "f7bd494d",
   "metadata": {},
   "outputs": [],
   "source": []
  }
 ],
 "metadata": {
  "kernelspec": {
   "display_name": "Python 3",
   "language": "python",
   "name": "python3"
  },
  "language_info": {
   "codemirror_mode": {
    "name": "ipython",
    "version": 3
   },
   "file_extension": ".py",
   "mimetype": "text/x-python",
   "name": "python",
   "nbconvert_exporter": "python",
   "pygments_lexer": "ipython3",
   "version": "3.9.6"
  }
 },
 "nbformat": 4,
 "nbformat_minor": 5
}
