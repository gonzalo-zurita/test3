{
 "cells": [
  {
   "cell_type": "code",
   "execution_count": 1,
   "id": "13725739",
   "metadata": {},
   "outputs": [],
   "source": [
    "gandalf = [10, 11, 13, 30, 22, 11, 10, 33, 22, 22]\n",
    "saruman = [23, 66, 12, 43, 12, 10, 44, 23, 12, 17]\n",
    "\n",
    "spells = 10"
   ]
  },
  {
   "cell_type": "code",
   "execution_count": 10,
   "id": "89966b03",
   "metadata": {},
   "outputs": [],
   "source": [
    "gandalf_wins = 0\n",
    "saruman_wins = 0\n",
    "tie = 0"
   ]
  },
  {
   "cell_type": "code",
   "execution_count": 11,
   "id": "b2b45cdb",
   "metadata": {},
   "outputs": [],
   "source": [
    "for spells in zip(gandalf, saruman):\n",
    "    if gandalf > saruman:\n",
    "        gandalf_wins += 1\n",
    "    elif gandalf < saruman:\n",
    "        saruman_wins += 1\n",
    "    else:\n",
    "        tie += 1"
   ]
  },
  {
   "cell_type": "code",
   "execution_count": 12,
   "id": "22d47fdc",
   "metadata": {},
   "outputs": [
    {
     "name": "stdout",
     "output_type": "stream",
     "text": [
      "Total gandalf wins: 0\n",
      "Total saruman wins: 10\n"
     ]
    }
   ],
   "source": [
    "print(\"Total gandalf wins:\", gandalf_wins)\n",
    "print(\"Total saruman wins:\", saruman_wins)"
   ]
  },
  {
   "cell_type": "code",
   "execution_count": null,
   "id": "9e5d4277",
   "metadata": {},
   "outputs": [],
   "source": []
  }
 ],
 "metadata": {
  "kernelspec": {
   "display_name": "Python 3",
   "language": "python",
   "name": "python3"
  },
  "language_info": {
   "codemirror_mode": {
    "name": "ipython",
    "version": 3
   },
   "file_extension": ".py",
   "mimetype": "text/x-python",
   "name": "python",
   "nbconvert_exporter": "python",
   "pygments_lexer": "ipython3",
   "version": "3.9.6"
  }
 },
 "nbformat": 4,
 "nbformat_minor": 5
}
