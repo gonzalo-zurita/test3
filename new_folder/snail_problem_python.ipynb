{
 "cells": [
  {
   "cell_type": "code",
   "execution_count": 6,
   "id": "b2aa6ac9",
   "metadata": {},
   "outputs": [],
   "source": [
    "well_height = 125\n",
    "daily_distance = 30\n",
    "nightly_distance = -20\n",
    "snail_not_escaped=True\n",
    "\n",
    "snail_position = daily_distance + nightly_distance\n",
    "\n"
   ]
  },
  {
   "cell_type": "code",
   "execution_count": 7,
   "id": "d9605630",
   "metadata": {},
   "outputs": [],
   "source": [
    "days = 0\n",
    "total_cms = 0"
   ]
  },
  {
   "cell_type": "code",
   "execution_count": 10,
   "id": "fac2f3d3",
   "metadata": {},
   "outputs": [
    {
     "name": "stdout",
     "output_type": "stream",
     "text": [
      "2\n",
      "3\n",
      "4\n",
      "5\n",
      "6\n",
      "7\n",
      "8\n",
      "9\n",
      "10\n",
      "11\n",
      "12\n",
      "13\n"
     ]
    }
   ],
   "source": [
    "while snail_not_escaped:\n",
    "    total_cms += snail_position\n",
    "    days += 1\n",
    "    print(days)\n",
    "    if total_cms >=well_height:\n",
    "        snail_not_escaped=False"
   ]
  },
  {
   "cell_type": "code",
   "execution_count": 11,
   "id": "9c82288c",
   "metadata": {},
   "outputs": [
    {
     "name": "stdout",
     "output_type": "stream",
     "text": [
      "The snail escaped in  13 days\n"
     ]
    }
   ],
   "source": [
    "print('The snail escaped in ', days, 'days')"
   ]
  },
  {
   "cell_type": "code",
   "execution_count": null,
   "id": "c07eb359",
   "metadata": {},
   "outputs": [],
   "source": []
  }
 ],
 "metadata": {
  "kernelspec": {
   "display_name": "Python 3",
   "language": "python",
   "name": "python3"
  },
  "language_info": {
   "codemirror_mode": {
    "name": "ipython",
    "version": 3
   },
   "file_extension": ".py",
   "mimetype": "text/x-python",
   "name": "python",
   "nbconvert_exporter": "python",
   "pygments_lexer": "ipython3",
   "version": "3.9.6"
  }
 },
 "nbformat": 4,
 "nbformat_minor": 5
}
